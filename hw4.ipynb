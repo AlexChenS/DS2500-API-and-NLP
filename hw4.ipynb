{
 "cells": [
  {
   "cell_type": "markdown",
   "id": "68ba6a85-8604-40ea-93fc-fe089ebef22f",
   "metadata": {},
   "source": [
    "### HW4\n",
    "Use their API to execute a query on a keyword(s) of your choice. Create a KMeans Clustering model based on the content of each article.  Use TF.IDF to process the text, and then Principal Component Analysis to reduce the dimensionality of the data, before you do any K-means fitting or plotting. "
   ]
  },
  {
   "cell_type": "code",
   "execution_count": null,
   "id": "3509dbfb-57f4-4c6c-81af-f2f703dae070",
   "metadata": {},
   "outputs": [],
   "source": [
    "import pandas as pd\n",
    "import numpy as np\n",
    "import seaborn as sns\n",
    "import requests\n",
    "from sklearn.cluster import KMeans\n",
    "from sklearn.decomposition import PCA\n",
    "from sklearn.feature_extraction.text import TfidfVectorizer\n",
    "import matplotlib.pyplot as plt\n",
    "\n",
    "\n",
    "API_ENDPOINT = \"https://newsapi.org/v2/everything/\""
   ]
  },
  {
   "cell_type": "code",
   "execution_count": null,
   "id": "43ae9d3f-d5e5-41f7-abd5-9325f3ce5785",
   "metadata": {},
   "outputs": [],
   "source": [
    "def get_response(ENDPOINT):\n",
    "    '''gets response from given API, params include key and query words. Return a \n",
    "    json object.\n",
    "    '''\n",
    "    API_KEY = \"\"\n",
    "    params = {\n",
    "        \"apiKey\": API_KEY,\n",
    "        \"q\": '+United States employment'\n",
    "    }\n",
    "    url = ENDPOINT\n",
    "    response = requests.get(url, params=params)\n",
    "    print(response.url)\n",
    "    return response.json()\n",
    "data = get_response(API_ENDPOINT)"
   ]
  },
  {
   "cell_type": "code",
   "execution_count": null,
   "id": "78af7cea-3c67-4afe-ac3c-e754321dfcc1",
   "metadata": {},
   "outputs": [],
   "source": [
    "with open('data.json', 'w') as file:\n",
    "    json.dump(data, file)"
   ]
  },
  {
   "cell_type": "code",
   "execution_count": null,
   "id": "9d32d12d-7659-432b-a078-8a01e67c3969",
   "metadata": {},
   "outputs": [],
   "source": [
    "text = []\n",
    "for article in data[\"articles\"]: #Unpack the JSON object and extract corpus we need\n",
    "    if \"content\" in article:\n",
    "        text.append(article[\"content\"])"
   ]
  },
  {
   "cell_type": "code",
   "execution_count": null,
   "id": "47e0f558-6828-46d7-8aa1-f25c6403878f",
   "metadata": {},
   "outputs": [],
   "source": [
    "#Use Tfidfvectorizer to get the product of term frequency and inverse document frequency for each word\n",
    "vectorizer = TfidfVectorizer(stop_words = \"english\")\n",
    "vectorized_data = vectorizer.fit_transform(text)\n",
    "vectorized_data"
   ]
  },
  {
   "cell_type": "code",
   "execution_count": null,
   "id": "c042fa50-a691-4c93-9141-11d61328033d",
   "metadata": {},
   "outputs": [],
   "source": [
    "pd.DataFrame(vectorized_data.todense(), columns=vectorizer.get_feature_names_out()).head()"
   ]
  },
  {
   "cell_type": "code",
   "execution_count": null,
   "id": "9a6787e9-96ca-4c4f-9c33-93afa95f6267",
   "metadata": {},
   "outputs": [],
   "source": [
    "#Perfrom Principle Component Analysis to reduce dimensions\n",
    "pca = PCA(n_components=2)\n",
    "components = pca.fit_transform(vectorized_data.toarray())\n",
    "components.shape\n",
    "components"
   ]
  },
  {
   "cell_type": "code",
   "execution_count": null,
   "id": "bea39019-9043-40b7-a290-026b6e2870ec",
   "metadata": {},
   "outputs": [],
   "source": [
    "#Custom function for finding the best n in reducing model inertia\n",
    "def fit_KMeans(start_n, end_n):\n",
    "    '''Fits KMeans with specified start value of n and end value of n. Returns\n",
    "    a list of n value and inertia.\n",
    "    '''\n",
    "    performance = []\n",
    "    for i in range(start_n, end_n + 1):\n",
    "        kmeans = KMeans(n_clusters=i)\n",
    "        kmeans.fit(components)\n",
    "        performance.append([i, kmeans.inertia_])\n",
    "    return performance\n",
    "\n",
    "scores = fit_KMeans(2, 20)\n",
    "scores\n",
    "df_scores = pd.DataFrame(data=scores, columns=[\"n\", \"Inertia\"])\n",
    "df_scores"
   ]
  },
  {
   "cell_type": "code",
   "execution_count": null,
   "id": "431b3896-426d-439d-960f-3654bc8f6547",
   "metadata": {},
   "outputs": [],
   "source": [
    "#elbow plot for visualization the optimal cluster number\n",
    "sns.lineplot(x=df_scores['n'], y=df_scores['Inertia'])\n",
    "plt.title(\"Number of Clusters Against Inertia\")\n",
    "plt.xlabel(\"Number of clusters\")\n",
    "plt.savefig(\"Number of Clusters Against Inertia.png\")"
   ]
  },
  {
   "cell_type": "code",
   "execution_count": null,
   "id": "07444db3-19b7-4b70-a45e-53bf6cb3f65c",
   "metadata": {},
   "outputs": [],
   "source": [
    "kmeans_2 = KMeans(n_clusters=4) #most optimal number of clusters\n",
    "result = kmeans_2.fit(components)\n",
    "predictions = []\n",
    "for x in components:\n",
    "    data = x.reshape(1, -1)\n",
    "    predictions.append((data, kmeans_2.predict(data))) #get the predicted cluster for each data point\n",
    "predictions #generate predictions for assigning colors\n",
    "df_pred = pd.DataFrame(data=predictions, columns=[\"Data Point\", \"Cluster Label\"])\n",
    "#color code cluster label for visualization\n",
    "df_pred['Color'] = df_pred['Cluster Label'].apply(lambda x: 'red' if x == 0 else\n",
    "                                            'blue' if x == 1 else\n",
    "                                            'green' if x == 2 else\n",
    "                                            'gold')\n",
    "df_pred"
   ]
  },
  {
   "cell_type": "code",
   "execution_count": null,
   "id": "05ab2680-67d1-434f-b169-5555d70c0c89",
   "metadata": {},
   "outputs": [],
   "source": [
    "# #Extract Data from numpy array\n",
    "df_pred['x'] = df_pred[\"Data Point\"].map(lambda x: x[0, 0])\n",
    "df_pred['y'] = df_pred[\"Data Point\"].map(lambda x: x[0, 1])\n",
    "df_pred"
   ]
  },
  {
   "cell_type": "code",
   "execution_count": null,
   "id": "5b2a8212-5d47-4a3d-a71a-8b492077237d",
   "metadata": {},
   "outputs": [],
   "source": [
    "#plot scatterplot with color indicating their assigned cluster\n",
    "plt.scatter(x=df_pred['x'], y=df_pred['y'], c=df_pred[\"Color\"])\n",
    "plt.title(\"Values of PCA Color-Coded to Indicate Cluster\")\n",
    "plt.savefig(\"color_coded_scatter.png\")\n",
    "plt.xlabel(\"Most significant loading\")\n",
    "plt.ylabel(\"Second most significant loading\")\n",
    "plt.show()\n"
   ]
  },
  {
   "cell_type": "code",
   "execution_count": null,
   "id": "a649e76d-e59d-4961-93bf-8d0793a6f626",
   "metadata": {},
   "outputs": [],
   "source": [
    "#How many data points are in each cluster\n",
    "df_pred[\"Cluster Label\"].value_counts()"
   ]
  },
  {
   "cell_type": "code",
   "execution_count": null,
   "id": "8fb3f0be-789d-4cae-a894-f0106f3429f8",
   "metadata": {},
   "outputs": [],
   "source": []
  }
 ],
 "metadata": {
  "kernelspec": {
   "display_name": "Python 3 (ipykernel)",
   "language": "python",
   "name": "python3"
  },
  "language_info": {
   "codemirror_mode": {
    "name": "ipython",
    "version": 3
   },
   "file_extension": ".py",
   "mimetype": "text/x-python",
   "name": "python",
   "nbconvert_exporter": "python",
   "pygments_lexer": "ipython3",
   "version": "3.11.7"
  }
 },
 "nbformat": 4,
 "nbformat_minor": 5
}
